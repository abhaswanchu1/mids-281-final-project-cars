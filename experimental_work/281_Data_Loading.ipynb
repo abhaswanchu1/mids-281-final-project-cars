{
  "nbformat": 4,
  "nbformat_minor": 0,
  "metadata": {
    "colab": {
      "provenance": [],
      "authorship_tag": "ABX9TyM3Bdi5yGQVbKE0tA+0/WQ/",
      "include_colab_link": true
    },
    "kernelspec": {
      "name": "python3",
      "display_name": "Python 3"
    },
    "language_info": {
      "name": "python"
    }
  },
  "cells": [
    {
      "cell_type": "markdown",
      "metadata": {
        "id": "view-in-github",
        "colab_type": "text"
      },
      "source": [
        "<a href=\"https://colab.research.google.com/github/abhaswanchu1/mids-281-final-project-cars/blob/main/281_Data_Loading.ipynb\" target=\"_parent\"><img src=\"https://colab.research.google.com/assets/colab-badge.svg\" alt=\"Open In Colab\"/></a>"
      ]
    },
    {
      "cell_type": "code",
      "execution_count": null,
      "metadata": {
        "id": "IafElr7Ahzn3"
      },
      "outputs": [],
      "source": [
        "import pandas as pd\n",
        "import os\n",
        "from shutil import copyfile\n",
        "from sklearn.model_selection import train_test_split\n",
        "import cv2\n",
        "file_location = 'drive/MyDrive/' #you'll have to change this to your local directory"
      ]
    },
    {
      "cell_type": "code",
      "source": [
        "# File locations\n",
        "excel_file = 'drive/MyDrive/cars_classes.xlsx'\n",
        "train_folder = 'drive/MyDrive/cars_train'\n",
        "test_folder = 'drive/MyDrive/cars_test'\n",
        "output_folder = 'drive/MyDrive/cars_dataset'  # Folder for the combined dataset\n",
        "\n",
        "# Create the output folder if it doesn't exist\n",
        "os.makedirs(output_folder, exist_ok=True)"
      ],
      "metadata": {
        "id": "eput80CRiCQi"
      },
      "execution_count": null,
      "outputs": []
    },
    {
      "cell_type": "code",
      "source": [
        "# Load training data\n",
        "train_df = pd.read_excel(excel_file, sheet_name='train')\n",
        "\n",
        "# Load testing data\n",
        "test_df = pd.read_excel(excel_file, sheet_name='test')"
      ],
      "metadata": {
        "id": "ZTpVYsY6iCrw"
      },
      "execution_count": null,
      "outputs": []
    },
    {
      "cell_type": "code",
      "source": [
        "# Function to label and copy images\n",
        "def label_and_copy(df, image_folder, output_folder):\n",
        "    for index, row in df.iterrows():\n",
        "        image_name = row['image']  # Assuming 'image_name' column exists\n",
        "        true_class_name = row['true_class_name']\n",
        "        class_name = true_class_name.split()[0]\n",
        "        source_path = os.path.join(image_folder, image_name)\n",
        "        destination_path = os.path.join(output_folder, class_name, image_name)\n",
        "        os.makedirs(os.path.join(output_folder, class_name), exist_ok=True)  # Create class folders\n",
        "        copyfile(source_path, destination_path)\n",
        "\n",
        "# Label and copy training images\n",
        "label_and_copy(train_df, train_folder, output_folder)\n",
        "\n",
        "# Label and copy testing images\n",
        "label_and_copy(test_df, test_folder, output_folder)\n",
        "\n",
        "#this will take a while"
      ],
      "metadata": {
        "id": "O7W35hcMiFKu"
      },
      "execution_count": null,
      "outputs": []
    },
    {
      "cell_type": "code",
      "source": [
        "def create_filtered_dataframe(dataset_path, brands):\n",
        "  \"\"\"\n",
        "  Creates a Pandas DataFrame from a dataset folder,\n",
        "  filtering for specific brands.\n",
        "\n",
        "  Args:\n",
        "    dataset_path: Path to the dataset folder.\n",
        "    brands: List of brands to include.\n",
        "\n",
        "  Returns:\n",
        "    A Pandas DataFrame with image paths and labels.\n",
        "  \"\"\"\n",
        "\n",
        "  data = []\n",
        "  for brand in brands:\n",
        "    brand_folder = os.path.join(dataset_path, brand)\n",
        "    if os.path.isdir(brand_folder):\n",
        "      for image_name in os.listdir(brand_folder):\n",
        "        image_path = os.path.join(brand_folder, image_name)\n",
        "        image = cv2.imread(image_path)\n",
        "        data.append({'image_path': image_path, 'brand': brand, 'image':image})\n",
        "\n",
        "  return pd.DataFrame(data)\n",
        "\n",
        "# Specify the dataset path and desired brands\n",
        "cars_dataset_path = 'drive/MyDrive/cars_dataset'\n",
        "selected_brands = ['Chevrolet', 'BMW', 'Dodge', 'Audi']\n",
        "\n",
        "# Create the filtered DataFrame\n",
        "filtered_df = create_filtered_dataframe(cars_dataset_path, selected_brands)\n",
        "\n",
        "# Display the DataFrame (optional)\n",
        "filtered_df.head()"
      ],
      "metadata": {
        "id": "MLBOVwMciKh-"
      },
      "execution_count": null,
      "outputs": []
    },
    {
      "cell_type": "code",
      "source": [
        "# Split the DataFrame into training and testing sets\n",
        "train_df, test_df = train_test_split(filtered_df, test_size=0.3, random_state=42,stratify=filtered_df['brand'])"
      ],
      "metadata": {
        "id": "uZWI6C8NicVm"
      },
      "execution_count": null,
      "outputs": []
    },
    {
      "cell_type": "code",
      "source": [
        "def convert_to_grayscale(image):\n",
        "       \"\"\"Converts an image to grayscale using OpenCV.\"\"\"\n",
        "       return cv2.cvtColor(image, cv2.COLOR_BGR2GRAY)"
      ],
      "metadata": {
        "id": "O_iGiq7aifps"
      },
      "execution_count": null,
      "outputs": []
    },
    {
      "cell_type": "code",
      "source": [
        "train_df['image'] = train_df['image'].apply(convert_to_grayscale)\n",
        "test_df['image'] = test_df['image'].apply(convert_to_grayscale)"
      ],
      "metadata": {
        "id": "IRx7vYMnipWd"
      },
      "execution_count": null,
      "outputs": []
    },
    {
      "cell_type": "code",
      "source": [
        "# Print the shapes of the resulting DataFrames\n",
        "print(\"Train DataFrame shape:\", train_df.shape)\n",
        "print(\"Test DataFrame shape:\", test_df.shape)"
      ],
      "metadata": {
        "id": "BZq5ij83isPK"
      },
      "execution_count": null,
      "outputs": []
    }
  ]
}
